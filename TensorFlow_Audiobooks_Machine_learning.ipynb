{
 "cells": [
  {
   "cell_type": "markdown",
   "metadata": {},
   "source": [
    "# Audiobooks business case"
   ]
  },
  {
   "cell_type": "markdown",
   "metadata": {},
   "source": [
    "# Final exercise\n",
    "\n",
    "Based on everything you have seen in the course (including the preprocessing exercise in this section), try to achieve a better accuracy. Obviously, there is no 'correct' answer to this exercise. It depends solely on your own motivation and willingness to become better at machine learning. "
   ]
  },
  {
   "cell_type": "markdown",
   "metadata": {},
   "source": [
    "### Problem\n",
    "\n",
    "You are given data from an Audiobook App. Logically, it relates to the audio versions of books ONLY. Each customer in the database has made a purchase at least once, that's why he/she is in the database. We want to create a machine learning algorithm based on our available data that can predict if a customer will buy again from the Audiobook company.\n",
    "\n",
    "The main idea is that if a customer has a low probability of coming back, there is no reason to spend any money on advertising to him/her. If we can focus our efforts SOLELY on customers that are likely to convert again, we can make great savings. Moreover, this model can identify the most important metrics for a customer to come back again. Identifying new customers creates value and growth opportunities.\n",
    "\n",
    "You have a .csv summarizing the data. There are several variables: Customer ID, ), Book length overall (sum of the minute length of all purchases), Book length avg (average length in minutes of all purchases), Price paid_overall (sum of all purchases) ,Price Paid avg (average of all purchases), Review (a Boolean variable whether the customer left a review), Review out of 10 (if the customer left a review, his/her review out of 10, Total minutes listened, Completion (from 0 to 1), Support requests (number of support requests; everything from forgotten password to assistance for using the App), and Last visited minus purchase date (in days).\n",
    "\n",
    "These are the inputs (excluding customer ID, as it is completely arbitrary. It's more like a name, than a number).\n",
    "\n",
    "The targets are a Boolean variable (0 or 1). We are taking a period of 2 years in our inputs, and the next 6 months as targets. So, in fact, we are predicting if: based on the last 2 years of activity and engagement, a customer will convert in the next 6 months. 6 months sounds like a reasonable time. If they don't convert after 6 months, chances are they've gone to a competitor or didn't like the Audiobook way of digesting information. \n",
    "\n",
    "The task is simple: create a machine learning algorithm, which is able to predict if a customer will buy again. \n",
    "\n",
    "This is a classification problem with two classes: won't buy and will buy, represented by 0s and 1s. \n",
    "\n",
    "Good luck!"
   ]
  },
  {
   "cell_type": "markdown",
   "metadata": {},
   "source": [
    "## Step 1: Load & Preprocess Data"
   ]
  },
  {
   "cell_type": "code",
   "execution_count": 10,
   "metadata": {},
   "outputs": [],
   "source": [
    "import numpy as np\n",
    "\n",
    "# Load the data from npz files\n",
    "train = np.load(r'D:\\My Drive\\CSV\\Audiobooks_data_train.npz')\n",
    "val = np.load(r'D:\\My Drive\\CSV\\Audiobooks_data_validation.npz')\n",
    "test = np.load(r'D:\\My Drive\\CSV\\Audiobooks_data_test.npz')\n",
    "\n",
    "# Extract inputs and targets\n",
    "X_train, y_train = train['inputs'], train['targets']\n",
    "X_val, y_val = val['inputs'], val['targets']\n",
    "X_test, y_test = test['inputs'], test['targets']"
   ]
  },
  {
   "cell_type": "code",
   "execution_count": 11,
   "metadata": {},
   "outputs": [],
   "source": [
    "from sklearn.preprocessing import StandardScaler\n",
    "scaler = StandardScaler()\n",
    "X_train = scaler.fit_transform(X_train)\n",
    "X_val = scaler.transform(X_val)\n",
    "X_test = scaler.transform(X_test)"
   ]
  },
  {
   "cell_type": "markdown",
   "metadata": {},
   "source": [
    "## Step 2: Build the Model"
   ]
  },
  {
   "cell_type": "code",
   "execution_count": 12,
   "metadata": {},
   "outputs": [],
   "source": [
    "import tensorflow as tf\n",
    "from tensorflow.keras import layers, models\n",
    "\n",
    "input_size = X_train.shape[1]\n",
    "\n",
    "model = models.Sequential([\n",
    "    layers.Input(shape=(input_size,)),\n",
    "    layers.Dense(128, activation='relu'),\n",
    "    layers.Dropout(0.3),\n",
    "    layers.Dense(64, activation='relu'),\n",
    "    layers.Dropout(0.3),\n",
    "    layers.Dense(1, activation='sigmoid')  # Binary classification\n",
    "])\n",
    "\n",
    "model.compile(\n",
    "    optimizer=tf.keras.optimizers.Adam(learning_rate=0.0005),\n",
    "    loss='binary_crossentropy',\n",
    "    metrics=['accuracy']\n",
    ")"
   ]
  },
  {
   "cell_type": "markdown",
   "metadata": {},
   "source": [
    "## Step 3: Train the Model"
   ]
  },
  {
   "cell_type": "code",
   "execution_count": null,
   "metadata": {},
   "outputs": [
    {
     "name": "stdout",
     "output_type": "stream",
     "text": [
      "Epoch 1/100\n",
      "36/36 - 1s - loss: 0.6228 - accuracy: 0.6954 - val_loss: 0.5175 - val_accuracy: 0.8591 - 1s/epoch - 39ms/step\n",
      "Epoch 2/100\n",
      "36/36 - 0s - loss: 0.4585 - accuracy: 0.8558 - val_loss: 0.3918 - val_accuracy: 0.8702 - 166ms/epoch - 5ms/step\n",
      "Epoch 3/100\n",
      "36/36 - 0s - loss: 0.3801 - accuracy: 0.8687 - val_loss: 0.3409 - val_accuracy: 0.8747 - 168ms/epoch - 5ms/step\n",
      "Epoch 4/100\n",
      "36/36 - 0s - loss: 0.3472 - accuracy: 0.8757 - val_loss: 0.3165 - val_accuracy: 0.8837 - 184ms/epoch - 5ms/step\n",
      "Epoch 5/100\n",
      "36/36 - 0s - loss: 0.3261 - accuracy: 0.8782 - val_loss: 0.3031 - val_accuracy: 0.8904 - 162ms/epoch - 4ms/step\n",
      "Epoch 6/100\n",
      "36/36 - 0s - loss: 0.3215 - accuracy: 0.8771 - val_loss: 0.2956 - val_accuracy: 0.8949 - 169ms/epoch - 5ms/step\n",
      "Epoch 7/100\n",
      "36/36 - 0s - loss: 0.3097 - accuracy: 0.8838 - val_loss: 0.2957 - val_accuracy: 0.8904 - 159ms/epoch - 4ms/step\n",
      "Epoch 8/100\n",
      "36/36 - 0s - loss: 0.3012 - accuracy: 0.8801 - val_loss: 0.2920 - val_accuracy: 0.8904 - 160ms/epoch - 4ms/step\n",
      "Epoch 9/100\n",
      "36/36 - 0s - loss: 0.2957 - accuracy: 0.8888 - val_loss: 0.2802 - val_accuracy: 0.8949 - 163ms/epoch - 5ms/step\n",
      "Epoch 10/100\n",
      "36/36 - 0s - loss: 0.2863 - accuracy: 0.8919 - val_loss: 0.2778 - val_accuracy: 0.8926 - 167ms/epoch - 5ms/step\n",
      "Epoch 11/100\n",
      "36/36 - 0s - loss: 0.2906 - accuracy: 0.8899 - val_loss: 0.2764 - val_accuracy: 0.8993 - 166ms/epoch - 5ms/step\n",
      "Epoch 12/100\n",
      "36/36 - 0s - loss: 0.2891 - accuracy: 0.8910 - val_loss: 0.2762 - val_accuracy: 0.8949 - 171ms/epoch - 5ms/step\n",
      "Epoch 13/100\n",
      "36/36 - 0s - loss: 0.2827 - accuracy: 0.8916 - val_loss: 0.2726 - val_accuracy: 0.8993 - 171ms/epoch - 5ms/step\n",
      "Epoch 14/100\n",
      "36/36 - 0s - loss: 0.2862 - accuracy: 0.8919 - val_loss: 0.2727 - val_accuracy: 0.8971 - 165ms/epoch - 5ms/step\n",
      "Epoch 15/100\n",
      "36/36 - 0s - loss: 0.2823 - accuracy: 0.8935 - val_loss: 0.2660 - val_accuracy: 0.9038 - 165ms/epoch - 5ms/step\n",
      "Epoch 16/100\n",
      "36/36 - 0s - loss: 0.2712 - accuracy: 0.8941 - val_loss: 0.2663 - val_accuracy: 0.9016 - 162ms/epoch - 4ms/step\n",
      "Epoch 17/100\n",
      "36/36 - 0s - loss: 0.2746 - accuracy: 0.8921 - val_loss: 0.2728 - val_accuracy: 0.8971 - 162ms/epoch - 4ms/step\n",
      "Epoch 18/100\n",
      "36/36 - 0s - loss: 0.2784 - accuracy: 0.8891 - val_loss: 0.2657 - val_accuracy: 0.9016 - 161ms/epoch - 4ms/step\n",
      "Epoch 19/100\n",
      "36/36 - 0s - loss: 0.2695 - accuracy: 0.8972 - val_loss: 0.2629 - val_accuracy: 0.8993 - 160ms/epoch - 4ms/step\n",
      "Epoch 20/100\n",
      "36/36 - 0s - loss: 0.2728 - accuracy: 0.8969 - val_loss: 0.2649 - val_accuracy: 0.9016 - 169ms/epoch - 5ms/step\n",
      "Epoch 21/100\n",
      "36/36 - 0s - loss: 0.2660 - accuracy: 0.8961 - val_loss: 0.2610 - val_accuracy: 0.9038 - 159ms/epoch - 4ms/step\n",
      "Epoch 22/100\n",
      "36/36 - 0s - loss: 0.2664 - accuracy: 0.9000 - val_loss: 0.2597 - val_accuracy: 0.9038 - 256ms/epoch - 7ms/step\n",
      "Epoch 23/100\n",
      "36/36 - 0s - loss: 0.2690 - accuracy: 0.8989 - val_loss: 0.2584 - val_accuracy: 0.9016 - 162ms/epoch - 4ms/step\n",
      "Epoch 24/100\n",
      "36/36 - 0s - loss: 0.2641 - accuracy: 0.9033 - val_loss: 0.2569 - val_accuracy: 0.9016 - 162ms/epoch - 5ms/step\n",
      "Epoch 25/100\n",
      "36/36 - 0s - loss: 0.2621 - accuracy: 0.9000 - val_loss: 0.2621 - val_accuracy: 0.8993 - 162ms/epoch - 4ms/step\n",
      "Epoch 26/100\n",
      "36/36 - 0s - loss: 0.2593 - accuracy: 0.9011 - val_loss: 0.2575 - val_accuracy: 0.9016 - 165ms/epoch - 5ms/step\n",
      "Epoch 27/100\n",
      "36/36 - 0s - loss: 0.2527 - accuracy: 0.9064 - val_loss: 0.2618 - val_accuracy: 0.9016 - 161ms/epoch - 4ms/step\n"
     ]
    }
   ],
   "source": [
    "# Early stopping to prevent overfitting\n",
    "early_stopping = tf.keras.callbacks.EarlyStopping(\n",
    "    monitor='val_loss',\n",
    "    patience=3,\n",
    "    restore_best_weights=True\n",
    ")\n",
    "\n",
    "history = model.fit(\n",
    "    X_train, y_train,\n",
    "    validation_data=(X_val, y_val),\n",
    "    epochs=100,\n",
    "    batch_size=100,\n",
    "    callbacks=[early_stopping],\n",
    "    verbose=2\n",
    ")"
   ]
  },
  {
   "cell_type": "markdown",
   "metadata": {},
   "source": [
    "## Step 4: Evaluate on Test Set"
   ]
  },
  {
   "cell_type": "code",
   "execution_count": 14,
   "metadata": {},
   "outputs": [
    {
     "name": "stdout",
     "output_type": "stream",
     "text": [
      "14/14 [==============================] - 0s 5ms/step - loss: 0.2579 - accuracy: 0.9107\n",
      "Test Accuracy: 0.91\n"
     ]
    }
   ],
   "source": [
    "test_loss, test_accuracy = model.evaluate(X_test, y_test)\n",
    "print(f'Test Accuracy: {test_accuracy:.2f}')"
   ]
  },
  {
   "cell_type": "code",
   "execution_count": null,
   "metadata": {},
   "outputs": [],
   "source": []
  }
 ],
 "metadata": {
  "kernelspec": {
   "display_name": "Python 3",
   "language": "python",
   "name": "python3"
  },
  "language_info": {
   "codemirror_mode": {
    "name": "ipython",
    "version": 3
   },
   "file_extension": ".py",
   "mimetype": "text/x-python",
   "name": "python",
   "nbconvert_exporter": "python",
   "pygments_lexer": "ipython3",
   "version": "3.9.6"
  }
 },
 "nbformat": 4,
 "nbformat_minor": 2
}
